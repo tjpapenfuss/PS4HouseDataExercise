{
  "cells": [
    {
      "cell_type": "markdown",
      "metadata": {
        "colab_type": "text",
        "id": "view-in-github"
      },
      "source": [
        "<a href=\"https://colab.research.google.com/github/johntango/PS2HouseDataExercise/blob/master/Predict_House_Prices_Part_1.ipynb\" target=\"_parent\"><img src=\"https://colab.research.google.com/assets/colab-badge.svg\" alt=\"Open In Colab\"/></a>"
      ]
    },
    {
      "cell_type": "code",
      "execution_count": 96,
      "metadata": {
        "id": "Oh_W51UKiVyj"
      },
      "outputs": [],
      "source": [
        "# House Sales Data, ETL, Build Predictive Model(linear regression), \n",
        "# Assess Model, Deploy Model   'houseSmallData.csv' and \"data_description.txt\"\n",
        "\n",
        "import pandas as pd\n",
        "import statsmodels.formula.api as sm\n",
        "import numpy as np\n",
        "import matplotlib.pyplot as plt\n"
      ]
    },
    {
      "cell_type": "markdown",
      "metadata": {
        "id": "w0tNzE2GiVym"
      },
      "source": [
        "### data_description.txt\n",
        "SalePrice — the property’s sale price in dollars. This is the target variable that you’re trying to predict.  \n",
        "MSSubClass — The building class  \n",
        "MSZoning — The general zoning classification \n",
        "MasVnrArea - Masonary Veneer Area in sq ft\n",
        "LotFrontage — Linear feet of street connected to property  \n",
        "LotArea — Lot size in square feet  \n",
        "Street — Type of road access  \n",
        "Alley — Type of alley access  \n",
        "LotShape — General shape of property  \n",
        "LandContour — Flatness of the property  \n",
        "Utilities — Type of utilities available  \n",
        "LotConfig — Lot configuration  "
      ]
    },
    {
      "cell_type": "markdown",
      "metadata": {
        "id": "bHK6tRf3iVyn"
      },
      "source": [
        "$$Y = X_{1}\\beta_{1} + X_{2}\\beta_{2} + X_{3}\\beta_{3}...$$"
      ]
    },
    {
      "cell_type": "code",
      "execution_count": 97,
      "metadata": {
        "colab": {
          "base_uri": "https://localhost:8080/",
          "height": 300
        },
        "id": "5bYSMt7FiVyo",
        "outputId": "ca0a3a5d-5df5-4347-f60e-0c6063ab67f8"
      },
      "outputs": [
        {
          "data": {
            "text/html": [
              "<div>\n",
              "<style scoped>\n",
              "    .dataframe tbody tr th:only-of-type {\n",
              "        vertical-align: middle;\n",
              "    }\n",
              "\n",
              "    .dataframe tbody tr th {\n",
              "        vertical-align: top;\n",
              "    }\n",
              "\n",
              "    .dataframe thead th {\n",
              "        text-align: right;\n",
              "    }\n",
              "</style>\n",
              "<table border=\"1\" class=\"dataframe\">\n",
              "  <thead>\n",
              "    <tr style=\"text-align: right;\">\n",
              "      <th></th>\n",
              "      <th>Id</th>\n",
              "      <th>MSSubClass</th>\n",
              "      <th>MSZoning</th>\n",
              "      <th>LotFrontage</th>\n",
              "      <th>LotArea</th>\n",
              "      <th>Street</th>\n",
              "      <th>Alley</th>\n",
              "      <th>LotShape</th>\n",
              "      <th>LandContour</th>\n",
              "      <th>Utilities</th>\n",
              "      <th>...</th>\n",
              "      <th>ScreenPorch</th>\n",
              "      <th>PoolArea</th>\n",
              "      <th>PoolQC</th>\n",
              "      <th>Fence</th>\n",
              "      <th>MiscFeature</th>\n",
              "      <th>MiscVal</th>\n",
              "      <th>MoSold</th>\n",
              "      <th>YrSold</th>\n",
              "      <th>SaleType</th>\n",
              "      <th>SaleCondition</th>\n",
              "    </tr>\n",
              "  </thead>\n",
              "  <tbody>\n",
              "    <tr>\n",
              "      <th>0</th>\n",
              "      <td>1001</td>\n",
              "      <td>20</td>\n",
              "      <td>RL</td>\n",
              "      <td>74.0</td>\n",
              "      <td>10206</td>\n",
              "      <td>Pave</td>\n",
              "      <td>NaN</td>\n",
              "      <td>Reg</td>\n",
              "      <td>Lvl</td>\n",
              "      <td>AllPub</td>\n",
              "      <td>...</td>\n",
              "      <td>0</td>\n",
              "      <td>0</td>\n",
              "      <td>NaN</td>\n",
              "      <td>NaN</td>\n",
              "      <td>NaN</td>\n",
              "      <td>0</td>\n",
              "      <td>7</td>\n",
              "      <td>2009</td>\n",
              "      <td>WD</td>\n",
              "      <td>Normal</td>\n",
              "    </tr>\n",
              "    <tr>\n",
              "      <th>1</th>\n",
              "      <td>1002</td>\n",
              "      <td>30</td>\n",
              "      <td>RL</td>\n",
              "      <td>60.0</td>\n",
              "      <td>5400</td>\n",
              "      <td>Pave</td>\n",
              "      <td>NaN</td>\n",
              "      <td>Reg</td>\n",
              "      <td>Lvl</td>\n",
              "      <td>AllPub</td>\n",
              "      <td>...</td>\n",
              "      <td>0</td>\n",
              "      <td>0</td>\n",
              "      <td>NaN</td>\n",
              "      <td>NaN</td>\n",
              "      <td>NaN</td>\n",
              "      <td>0</td>\n",
              "      <td>1</td>\n",
              "      <td>2007</td>\n",
              "      <td>WD</td>\n",
              "      <td>Abnorml</td>\n",
              "    </tr>\n",
              "    <tr>\n",
              "      <th>2</th>\n",
              "      <td>1003</td>\n",
              "      <td>20</td>\n",
              "      <td>RL</td>\n",
              "      <td>75.0</td>\n",
              "      <td>11957</td>\n",
              "      <td>Pave</td>\n",
              "      <td>NaN</td>\n",
              "      <td>IR1</td>\n",
              "      <td>Lvl</td>\n",
              "      <td>AllPub</td>\n",
              "      <td>...</td>\n",
              "      <td>0</td>\n",
              "      <td>0</td>\n",
              "      <td>NaN</td>\n",
              "      <td>NaN</td>\n",
              "      <td>NaN</td>\n",
              "      <td>0</td>\n",
              "      <td>7</td>\n",
              "      <td>2008</td>\n",
              "      <td>WD</td>\n",
              "      <td>Normal</td>\n",
              "    </tr>\n",
              "    <tr>\n",
              "      <th>3</th>\n",
              "      <td>1004</td>\n",
              "      <td>90</td>\n",
              "      <td>RL</td>\n",
              "      <td>NaN</td>\n",
              "      <td>11500</td>\n",
              "      <td>Pave</td>\n",
              "      <td>NaN</td>\n",
              "      <td>IR1</td>\n",
              "      <td>Lvl</td>\n",
              "      <td>AllPub</td>\n",
              "      <td>...</td>\n",
              "      <td>0</td>\n",
              "      <td>0</td>\n",
              "      <td>NaN</td>\n",
              "      <td>NaN</td>\n",
              "      <td>NaN</td>\n",
              "      <td>0</td>\n",
              "      <td>6</td>\n",
              "      <td>2007</td>\n",
              "      <td>WD</td>\n",
              "      <td>Normal</td>\n",
              "    </tr>\n",
              "    <tr>\n",
              "      <th>4</th>\n",
              "      <td>1005</td>\n",
              "      <td>120</td>\n",
              "      <td>RL</td>\n",
              "      <td>43.0</td>\n",
              "      <td>3182</td>\n",
              "      <td>Pave</td>\n",
              "      <td>NaN</td>\n",
              "      <td>Reg</td>\n",
              "      <td>Lvl</td>\n",
              "      <td>AllPub</td>\n",
              "      <td>...</td>\n",
              "      <td>0</td>\n",
              "      <td>0</td>\n",
              "      <td>NaN</td>\n",
              "      <td>NaN</td>\n",
              "      <td>NaN</td>\n",
              "      <td>0</td>\n",
              "      <td>5</td>\n",
              "      <td>2009</td>\n",
              "      <td>WD</td>\n",
              "      <td>Normal</td>\n",
              "    </tr>\n",
              "  </tbody>\n",
              "</table>\n",
              "<p>5 rows × 80 columns</p>\n",
              "</div>"
            ],
            "text/plain": [
              "     Id  MSSubClass MSZoning  LotFrontage  LotArea Street Alley LotShape  \\\n",
              "0  1001          20       RL         74.0    10206   Pave   NaN      Reg   \n",
              "1  1002          30       RL         60.0     5400   Pave   NaN      Reg   \n",
              "2  1003          20       RL         75.0    11957   Pave   NaN      IR1   \n",
              "3  1004          90       RL          NaN    11500   Pave   NaN      IR1   \n",
              "4  1005         120       RL         43.0     3182   Pave   NaN      Reg   \n",
              "\n",
              "  LandContour Utilities  ... ScreenPorch PoolArea PoolQC Fence MiscFeature  \\\n",
              "0         Lvl    AllPub  ...           0        0    NaN   NaN         NaN   \n",
              "1         Lvl    AllPub  ...           0        0    NaN   NaN         NaN   \n",
              "2         Lvl    AllPub  ...           0        0    NaN   NaN         NaN   \n",
              "3         Lvl    AllPub  ...           0        0    NaN   NaN         NaN   \n",
              "4         Lvl    AllPub  ...           0        0    NaN   NaN         NaN   \n",
              "\n",
              "  MiscVal MoSold  YrSold  SaleType  SaleCondition  \n",
              "0       0      7    2009        WD         Normal  \n",
              "1       0      1    2007        WD        Abnorml  \n",
              "2       0      7    2008        WD         Normal  \n",
              "3       0      6    2007        WD         Normal  \n",
              "4       0      5    2009        WD         Normal  \n",
              "\n",
              "[5 rows x 80 columns]"
            ]
          },
          "execution_count": 97,
          "metadata": {},
          "output_type": "execute_result"
        }
      ],
      "source": [
        "train = pd.read_csv('train.csv')\n",
        "# train = data.iloc[0:1460,:]\n",
        "\n",
        "train.to_json('housedata.json')\n",
        "train.head()\n",
        "\n",
        "test_data = pd.read_csv('test.csv')\n",
        "\n",
        "test_data.head()"
      ]
    },
    {
      "cell_type": "markdown",
      "metadata": {
        "id": "aO6mI5FNi3ou"
      },
      "source": [
        "# New Section"
      ]
    },
    {
      "cell_type": "code",
      "execution_count": 98,
      "metadata": {
        "colab": {
          "base_uri": "https://localhost:8080/"
        },
        "id": "gnhZPn2piVyo",
        "outputId": "4ef41d35-e348-4547-b23d-55157bf5ebc4"
      },
      "outputs": [
        {
          "data": {
            "text/plain": [
              "0       208500\n",
              "1       181500\n",
              "2       223500\n",
              "3       140000\n",
              "4       250000\n",
              "         ...  \n",
              "1455    175000\n",
              "1456    210000\n",
              "1457    266500\n",
              "1458    142125\n",
              "1459    147500\n",
              "Name: SalePrice, Length: 1460, dtype: int64"
            ]
          },
          "execution_count": 98,
          "metadata": {},
          "output_type": "execute_result"
        }
      ],
      "source": [
        "# investigate Sale Price\n",
        "train['SalePrice']"
      ]
    },
    {
      "cell_type": "code",
      "execution_count": 99,
      "metadata": {},
      "outputs": [],
      "source": [
        "# Here is the setup for the linear regression model\n",
        "# import necessary libraries. Then we will run the model. \n",
        "# Once we have run it we will come back up here and remove unnecessary variables.\n",
        "from sklearn.linear_model import LinearRegression\n",
        "from sklearn import datasets, linear_model\n",
        "import statsmodels.api as sm\n",
        "from scipy import stats\n",
        "\n",
        "# Only keep the numeric variables\n",
        "train_numeric = train.select_dtypes(include=[np.number])\n",
        "test_numeric = test_data.select_dtypes(include=[np.number])\n",
        "# Setup the x_training values by taking all columns except the SalePrice.\n",
        "x_train = train_numeric.drop('SalePrice', axis=1)\n",
        "# Setup the y_training values by taking the SalePrice column.\n",
        "y_train = train_numeric['SalePrice']\n",
        "# remove all nan values.\n",
        "x_train = x_train.fillna(0)\n",
        "x_test = test_numeric.fillna(0)\n",
        "\n",
        "# Now below here is where I start to trim out the variables that are not needed.\n",
        "x_train = x_train.drop('Id', axis=1)\n",
        "x_train = x_train.drop('LotFrontage', axis=1)\n",
        "x_train = x_train.drop('BsmtFinSF2', axis=1)\n",
        "x_train = x_train.drop('BsmtUnfSF', axis=1)\n",
        "x_train = x_train.drop('LowQualFinSF', axis=1)\n",
        "x_train = x_train.drop('BsmtHalfBath', axis=1)\n",
        "x_train = x_train.drop('MiscVal', axis=1)\n",
        "x_train = x_train.drop('MoSold', axis=1)\n",
        "x_train = x_train.drop('3SsnPorch', axis=1)\n",
        "\n",
        "x_train = x_train.drop('GarageArea', axis=1)\n",
        "x_train = x_train.drop('HalfBath', axis=1)\n",
        "x_train = x_train.drop('FullBath', axis=1)\n",
        "x_train = x_train.drop('OpenPorchSF', axis=1)\n",
        "x_train = x_train.drop('EnclosedPorch', axis=1)\n",
        "\n",
        "x_train = x_train.drop('GrLivArea', axis=1)\n",
        "x_train = x_train.drop('YrSold', axis=1)\n",
        "x_train = x_train.drop('1stFlrSF', axis=1)\n",
        "x_train = x_train.drop('2ndFlrSF', axis=1)\n",
        "x_train = x_train.drop('PoolArea', axis=1)\n",
        "\n",
        "\n",
        "x_train = x_train.drop('BsmtFullBath', axis=1)\n",
        "\n",
        "x_train = x_train.drop('ScreenPorch', axis=1)\n",
        "x_train = x_train.drop('BsmtFinSF1', axis=1)\n",
        "#x_train = x_train.drop('TotalBsmtSF', axis=1)\n",
        "x_train = x_train.drop('MSSubClass', axis=1)\n",
        "\n",
        "x_train = x_train.drop('KitchenAbvGr', axis=1)\n",
        "#x_train = x_train.drop('TotRmsAbvGrd', axis=1)\n",
        "x_train = x_train.drop('YearRemodAdd', axis=1)\n"
      ]
    },
    {
      "cell_type": "code",
      "execution_count": 100,
      "metadata": {},
      "outputs": [],
      "source": [
        "x_test = x_test.drop('Id', axis=1)\n",
        "x_test = x_test.drop('LotFrontage', axis=1)\n",
        "x_test = x_test.drop('BsmtFinSF2', axis=1)\n",
        "x_test = x_test.drop('BsmtUnfSF', axis=1)\n",
        "x_test = x_test.drop('LowQualFinSF', axis=1)\n",
        "x_test = x_test.drop('BsmtHalfBath', axis=1)\n",
        "x_test = x_test.drop('MiscVal', axis=1)\n",
        "x_test = x_test.drop('MoSold', axis=1)\n",
        "x_test = x_test.drop('3SsnPorch', axis=1)\n",
        "\n",
        "x_test = x_test.drop('GarageArea', axis=1)\n",
        "x_test = x_test.drop('HalfBath', axis=1)\n",
        "x_test = x_test.drop('FullBath', axis=1)\n",
        "x_test = x_test.drop('OpenPorchSF', axis=1)\n",
        "x_test = x_test.drop('EnclosedPorch', axis=1)\n",
        "\n",
        "x_test = x_test.drop('GrLivArea', axis=1)\n",
        "x_test = x_test.drop('YrSold', axis=1)\n",
        "x_test = x_test.drop('1stFlrSF', axis=1)\n",
        "x_test = x_test.drop('2ndFlrSF', axis=1)\n",
        "x_test = x_test.drop('PoolArea', axis=1)\n",
        "\n",
        "\n",
        "x_test = x_test.drop('BsmtFullBath', axis=1)\n",
        "\n",
        "x_test = x_test.drop('ScreenPorch', axis=1)\n",
        "x_test = x_test.drop('BsmtFinSF1', axis=1)\n",
        "#x_test = x_test.drop('TotalBsmtSF', axis=1)\n",
        "x_test = x_test.drop('MSSubClass', axis=1)\n",
        "\n",
        "x_test = x_test.drop('KitchenAbvGr', axis=1)\n",
        "#x_test = x_test.drop('TotRmsAbvGrd', axis=1)\n",
        "x_test = x_test.drop('YearRemodAdd', axis=1)"
      ]
    },
    {
      "cell_type": "code",
      "execution_count": 101,
      "metadata": {},
      "outputs": [
        {
          "data": {
            "text/plain": [
              "0.7801846771920502"
            ]
          },
          "execution_count": 101,
          "metadata": {},
          "output_type": "execute_result"
        }
      ],
      "source": [
        "# Setup the regression. Make sure we get the R squared value.\n",
        "LR = LinearRegression()\n",
        "regressor = LR.fit(x_train, y_train)\n",
        "regressor.score(x_train, y_train)"
      ]
    },
    {
      "cell_type": "code",
      "execution_count": 107,
      "metadata": {},
      "outputs": [
        {
          "data": {
            "text/html": [
              "<table class=\"simpletable\">\n",
              "<caption>OLS Regression Results</caption>\n",
              "<tr>\n",
              "  <th>Dep. Variable:</th>        <td>SalePrice</td>    <th>  R-squared:         </th> <td>   0.780</td> \n",
              "</tr>\n",
              "<tr>\n",
              "  <th>Model:</th>                   <td>OLS</td>       <th>  Adj. R-squared:    </th> <td>   0.778</td> \n",
              "</tr>\n",
              "<tr>\n",
              "  <th>Method:</th>             <td>Least Squares</td>  <th>  F-statistic:       </th> <td>   428.0</td> \n",
              "</tr>\n",
              "<tr>\n",
              "  <th>Date:</th>             <td>Wed, 19 Oct 2022</td> <th>  Prob (F-statistic):</th>  <td>  0.00</td>  \n",
              "</tr>\n",
              "<tr>\n",
              "  <th>Time:</th>                 <td>16:59:52</td>     <th>  Log-Likelihood:    </th> <td> -17438.</td> \n",
              "</tr>\n",
              "<tr>\n",
              "  <th>No. Observations:</th>      <td>  1460</td>      <th>  AIC:               </th> <td>3.490e+04</td>\n",
              "</tr>\n",
              "<tr>\n",
              "  <th>Df Residuals:</th>          <td>  1447</td>      <th>  BIC:               </th> <td>3.497e+04</td>\n",
              "</tr>\n",
              "<tr>\n",
              "  <th>Df Model:</th>              <td>    12</td>      <th>                     </th>     <td> </td>    \n",
              "</tr>\n",
              "<tr>\n",
              "  <th>Covariance Type:</th>      <td>nonrobust</td>    <th>                     </th>     <td> </td>    \n",
              "</tr>\n",
              "</table>\n",
              "<table class=\"simpletable\">\n",
              "<tr>\n",
              "        <td></td>          <th>coef</th>     <th>std err</th>      <th>t</th>      <th>P>|t|</th>  <th>[0.025</th>    <th>0.975]</th>  \n",
              "</tr>\n",
              "<tr>\n",
              "  <th>const</th>        <td>-7.476e+05</td> <td>  9.3e+04</td> <td>   -8.041</td> <td> 0.000</td> <td> -9.3e+05</td> <td>-5.65e+05</td>\n",
              "</tr>\n",
              "<tr>\n",
              "  <th>LotArea</th>      <td>    0.6493</td> <td>    0.106</td> <td>    6.125</td> <td> 0.000</td> <td>    0.441</td> <td>    0.857</td>\n",
              "</tr>\n",
              "<tr>\n",
              "  <th>OverallQual</th>  <td> 2.121e+04</td> <td> 1137.750</td> <td>   18.645</td> <td> 0.000</td> <td>  1.9e+04</td> <td> 2.34e+04</td>\n",
              "</tr>\n",
              "<tr>\n",
              "  <th>OverallCond</th>  <td> 6581.1415</td> <td>  984.546</td> <td>    6.684</td> <td> 0.000</td> <td> 4649.851</td> <td> 8512.432</td>\n",
              "</tr>\n",
              "<tr>\n",
              "  <th>YearBuilt</th>    <td>  329.1593</td> <td>   47.253</td> <td>    6.966</td> <td> 0.000</td> <td>  236.468</td> <td>  421.850</td>\n",
              "</tr>\n",
              "<tr>\n",
              "  <th>MasVnrArea</th>   <td>   36.6744</td> <td>    6.166</td> <td>    5.948</td> <td> 0.000</td> <td>   24.580</td> <td>   48.769</td>\n",
              "</tr>\n",
              "<tr>\n",
              "  <th>TotalBsmtSF</th>  <td>   28.2051</td> <td>    2.845</td> <td>    9.916</td> <td> 0.000</td> <td>   22.625</td> <td>   33.785</td>\n",
              "</tr>\n",
              "<tr>\n",
              "  <th>BedroomAbvGr</th> <td>-7958.2598</td> <td> 1719.662</td> <td>   -4.628</td> <td> 0.000</td> <td>-1.13e+04</td> <td>-4584.963</td>\n",
              "</tr>\n",
              "<tr>\n",
              "  <th>TotRmsAbvGrd</th> <td> 1.192e+04</td> <td> 1004.687</td> <td>   11.868</td> <td> 0.000</td> <td> 9953.239</td> <td> 1.39e+04</td>\n",
              "</tr>\n",
              "<tr>\n",
              "  <th>Fireplaces</th>   <td> 1.049e+04</td> <td> 1766.996</td> <td>    5.936</td> <td> 0.000</td> <td> 7023.020</td> <td>  1.4e+04</td>\n",
              "</tr>\n",
              "<tr>\n",
              "  <th>GarageYrBlt</th>  <td>  -14.2957</td> <td>    2.781</td> <td>   -5.140</td> <td> 0.000</td> <td>  -19.751</td> <td>   -8.840</td>\n",
              "</tr>\n",
              "<tr>\n",
              "  <th>GarageCars</th>   <td> 1.983e+04</td> <td> 2172.619</td> <td>    9.125</td> <td> 0.000</td> <td> 1.56e+04</td> <td> 2.41e+04</td>\n",
              "</tr>\n",
              "<tr>\n",
              "  <th>WoodDeckSF</th>   <td>   37.0937</td> <td>    8.314</td> <td>    4.462</td> <td> 0.000</td> <td>   20.785</td> <td>   53.403</td>\n",
              "</tr>\n",
              "</table>\n",
              "<table class=\"simpletable\">\n",
              "<tr>\n",
              "  <th>Omnibus:</th>       <td>491.136</td> <th>  Durbin-Watson:     </th> <td>   1.937</td> \n",
              "</tr>\n",
              "<tr>\n",
              "  <th>Prob(Omnibus):</th> <td> 0.000</td>  <th>  Jarque-Bera (JB):  </th> <td>35856.656</td>\n",
              "</tr>\n",
              "<tr>\n",
              "  <th>Skew:</th>          <td> 0.658</td>  <th>  Prob(JB):          </th> <td>    0.00</td> \n",
              "</tr>\n",
              "<tr>\n",
              "  <th>Kurtosis:</th>      <td>27.242</td>  <th>  Cond. No.          </th> <td>1.39e+06</td> \n",
              "</tr>\n",
              "</table><br/><br/>Notes:<br/>[1] Standard Errors assume that the covariance matrix of the errors is correctly specified.<br/>[2] The condition number is large, 1.39e+06. This might indicate that there are<br/>strong multicollinearity or other numerical problems."
            ],
            "text/plain": [
              "<class 'statsmodels.iolib.summary.Summary'>\n",
              "\"\"\"\n",
              "                            OLS Regression Results                            \n",
              "==============================================================================\n",
              "Dep. Variable:              SalePrice   R-squared:                       0.780\n",
              "Model:                            OLS   Adj. R-squared:                  0.778\n",
              "Method:                 Least Squares   F-statistic:                     428.0\n",
              "Date:                Wed, 19 Oct 2022   Prob (F-statistic):               0.00\n",
              "Time:                        16:59:52   Log-Likelihood:                -17438.\n",
              "No. Observations:                1460   AIC:                         3.490e+04\n",
              "Df Residuals:                    1447   BIC:                         3.497e+04\n",
              "Df Model:                          12                                         \n",
              "Covariance Type:            nonrobust                                         \n",
              "================================================================================\n",
              "                   coef    std err          t      P>|t|      [0.025      0.975]\n",
              "--------------------------------------------------------------------------------\n",
              "const        -7.476e+05    9.3e+04     -8.041      0.000    -9.3e+05   -5.65e+05\n",
              "LotArea          0.6493      0.106      6.125      0.000       0.441       0.857\n",
              "OverallQual   2.121e+04   1137.750     18.645      0.000     1.9e+04    2.34e+04\n",
              "OverallCond   6581.1415    984.546      6.684      0.000    4649.851    8512.432\n",
              "YearBuilt      329.1593     47.253      6.966      0.000     236.468     421.850\n",
              "MasVnrArea      36.6744      6.166      5.948      0.000      24.580      48.769\n",
              "TotalBsmtSF     28.2051      2.845      9.916      0.000      22.625      33.785\n",
              "BedroomAbvGr -7958.2598   1719.662     -4.628      0.000   -1.13e+04   -4584.963\n",
              "TotRmsAbvGrd  1.192e+04   1004.687     11.868      0.000    9953.239    1.39e+04\n",
              "Fireplaces    1.049e+04   1766.996      5.936      0.000    7023.020     1.4e+04\n",
              "GarageYrBlt    -14.2957      2.781     -5.140      0.000     -19.751      -8.840\n",
              "GarageCars    1.983e+04   2172.619      9.125      0.000    1.56e+04    2.41e+04\n",
              "WoodDeckSF      37.0937      8.314      4.462      0.000      20.785      53.403\n",
              "==============================================================================\n",
              "Omnibus:                      491.136   Durbin-Watson:                   1.937\n",
              "Prob(Omnibus):                  0.000   Jarque-Bera (JB):            35856.656\n",
              "Skew:                           0.658   Prob(JB):                         0.00\n",
              "Kurtosis:                      27.242   Cond. No.                     1.39e+06\n",
              "==============================================================================\n",
              "\n",
              "Notes:\n",
              "[1] Standard Errors assume that the covariance matrix of the errors is correctly specified.\n",
              "[2] The condition number is large, 1.39e+06. This might indicate that there are\n",
              "strong multicollinearity or other numerical problems.\n",
              "\"\"\""
            ]
          },
          "execution_count": 107,
          "metadata": {},
          "output_type": "execute_result"
        }
      ],
      "source": [
        "\n",
        "# In here I am going through and seeing which variables are significant.\n",
        "X_VAL = sm.add_constant(x_train)\n",
        "model = sm.OLS(y_train, X_VAL)\n",
        "model_fit = model.fit()\n",
        "new_data = model_fit.summary()\n",
        "new_data\n"
      ]
    },
    {
      "cell_type": "code",
      "execution_count": 138,
      "metadata": {},
      "outputs": [
        {
          "data": {
            "text/plain": [
              "['459,153328.0']"
            ]
          },
          "execution_count": 138,
          "metadata": {},
          "output_type": "execute_result"
        }
      ],
      "source": [
        "#Now we need to predict.\n",
        "#predictions = model_fit.predict(x_train)\n",
        "# model_fit.predict(x_test)\n",
        "\n",
        "lr = linear_model.LinearRegression()\n",
        "model = lr.fit(x_train, y_train)\n",
        "predictions = model.predict(x_test)\n",
        "import csv\n",
        "i = 0\n",
        "with open('predictions.csv', 'w') as csvfile:\n",
        "    spamwriter = csv.writer(csvfile, delimiter=' ')\n",
        "    spamwriter.writerow([\"Id,SalePrice\"])\n",
        "    while i < predictions.size:\n",
        "        row = [str(i) + ',' + str('%.1f' % (predictions[i]))]\n",
        "        spamwriter.writerow(row)\n",
        "        i+=1\n",
        "row"
      ]
    },
    {
      "cell_type": "code",
      "execution_count": 15,
      "metadata": {
        "colab": {
          "base_uri": "https://localhost:8080/",
          "height": 334
        },
        "id": "YA1EAz3WiVyp",
        "outputId": "67d2b5e8-e6c0-4820-9e78-dc872461e66a"
      },
      "outputs": [
        {
          "data": {
            "text/plain": [
              "(array([148., 723., 373., 135.,  51.,  19.,   4.,   3.,   2.,   2.]),\n",
              " array([ 34900., 106910., 178920., 250930., 322940., 394950., 466960.,\n",
              "        538970., 610980., 682990., 755000.]),\n",
              " <BarContainer object of 10 artists>)"
            ]
          },
          "execution_count": 15,
          "metadata": {},
          "output_type": "execute_result"
        },
        {
          "data": {
            "image/png": "[encoded data removed]",
            "text/plain": [
              "<Figure size 640x480 with 1 Axes>"
            ]
          },
          "metadata": {},
          "output_type": "display_data"
        }
      ],
      "source": [
        "# plot hist\n",
        "plt.hist(train['SalePrice'])"
      ]
    },
    {
      "cell_type": "code",
      "execution_count": 29,
      "metadata": {
        "colab": {
          "base_uri": "https://localhost:8080/"
        },
        "id": "hXKsSD6qiVyq",
        "outputId": "afd73ed7-a0fe-4e42-81b7-8541c7306794"
      },
      "outputs": [
        {
          "data": {
            "text/plain": [
              "(1460, 38)"
            ]
          },
          "execution_count": 29,
          "metadata": {},
          "output_type": "execute_result"
        }
      ],
      "source": [
        "# select numeric columns\n",
        "# calculate correlation factor\n",
        "numeric = train.select_dtypes(include=[np.number])\n",
        "numeric.shape"
      ]
    },
    {
      "cell_type": "code",
      "execution_count": 7,
      "metadata": {
        "colab": {
          "base_uri": "https://localhost:8080/"
        },
        "id": "2eufJ8DCiVyq",
        "outputId": "f7aeb1c0-a7a0-4e35-9a67-86713d5825d0"
      },
      "outputs": [
        {
          "data": {
            "text/plain": [
              "Index(['SalePrice', 'OverallQual', 'MasVnrArea'], dtype='object')"
            ]
          },
          "execution_count": 7,
          "metadata": {},
          "output_type": "execute_result"
        }
      ],
      "source": [
        "corr = numeric.corr()\n",
        "cols = corr['SalePrice'].sort_values(ascending=False)[0:3].index\n",
        "cols"
      ]
    },
    {
      "cell_type": "code",
      "execution_count": 12,
      "metadata": {
        "colab": {
          "base_uri": "https://localhost:8080/",
          "height": 677
        },
        "id": "JT9fF7QwiVyr",
        "outputId": "7e7e1d6a-3dab-4a4f-bc60-f297a63065d4"
      },
      "outputs": [
        {
          "data": {
            "text/html": [
              "\n",
              "  <div id=\"df-21e46ee7-bcb4-411d-bc1c-fa7cb4bed286\">\n",
              "    <div class=\"colab-df-container\">\n",
              "      <div>\n",
              "<style scoped>\n",
              "    .dataframe tbody tr th:only-of-type {\n",
              "        vertical-align: middle;\n",
              "    }\n",
              "\n",
              "    .dataframe tbody tr th {\n",
              "        vertical-align: top;\n",
              "    }\n",
              "\n",
              "    .dataframe thead th {\n",
              "        text-align: right;\n",
              "    }\n",
              "</style>\n",
              "<table border=\"1\" class=\"dataframe\">\n",
              "  <thead>\n",
              "    <tr style=\"text-align: right;\">\n",
              "      <th></th>\n",
              "      <th>OverallQual</th>\n",
              "      <th>MasVnrArea</th>\n",
              "    </tr>\n",
              "  </thead>\n",
              "  <tbody>\n",
              "    <tr>\n",
              "      <th>0</th>\n",
              "      <td>7</td>\n",
              "      <td>196.0</td>\n",
              "    </tr>\n",
              "    <tr>\n",
              "      <th>1</th>\n",
              "      <td>6</td>\n",
              "      <td>0.0</td>\n",
              "    </tr>\n",
              "    <tr>\n",
              "      <th>2</th>\n",
              "      <td>7</td>\n",
              "      <td>162.0</td>\n",
              "    </tr>\n",
              "    <tr>\n",
              "      <th>3</th>\n",
              "      <td>7</td>\n",
              "      <td>0.0</td>\n",
              "    </tr>\n",
              "    <tr>\n",
              "      <th>4</th>\n",
              "      <td>8</td>\n",
              "      <td>350.0</td>\n",
              "    </tr>\n",
              "    <tr>\n",
              "      <th>5</th>\n",
              "      <td>5</td>\n",
              "      <td>0.0</td>\n",
              "    </tr>\n",
              "    <tr>\n",
              "      <th>6</th>\n",
              "      <td>8</td>\n",
              "      <td>186.0</td>\n",
              "    </tr>\n",
              "    <tr>\n",
              "      <th>7</th>\n",
              "      <td>7</td>\n",
              "      <td>240.0</td>\n",
              "    </tr>\n",
              "    <tr>\n",
              "      <th>8</th>\n",
              "      <td>7</td>\n",
              "      <td>0.0</td>\n",
              "    </tr>\n",
              "    <tr>\n",
              "      <th>9</th>\n",
              "      <td>5</td>\n",
              "      <td>0.0</td>\n",
              "    </tr>\n",
              "    <tr>\n",
              "      <th>10</th>\n",
              "      <td>5</td>\n",
              "      <td>0.0</td>\n",
              "    </tr>\n",
              "    <tr>\n",
              "      <th>11</th>\n",
              "      <td>9</td>\n",
              "      <td>286.0</td>\n",
              "    </tr>\n",
              "    <tr>\n",
              "      <th>12</th>\n",
              "      <td>5</td>\n",
              "      <td>0.0</td>\n",
              "    </tr>\n",
              "    <tr>\n",
              "      <th>13</th>\n",
              "      <td>7</td>\n",
              "      <td>306.0</td>\n",
              "    </tr>\n",
              "    <tr>\n",
              "      <th>14</th>\n",
              "      <td>6</td>\n",
              "      <td>212.0</td>\n",
              "    </tr>\n",
              "    <tr>\n",
              "      <th>15</th>\n",
              "      <td>7</td>\n",
              "      <td>0.0</td>\n",
              "    </tr>\n",
              "    <tr>\n",
              "      <th>16</th>\n",
              "      <td>6</td>\n",
              "      <td>180.0</td>\n",
              "    </tr>\n",
              "    <tr>\n",
              "      <th>17</th>\n",
              "      <td>4</td>\n",
              "      <td>0.0</td>\n",
              "    </tr>\n",
              "    <tr>\n",
              "      <th>18</th>\n",
              "      <td>5</td>\n",
              "      <td>0.0</td>\n",
              "    </tr>\n",
              "    <tr>\n",
              "      <th>19</th>\n",
              "      <td>5</td>\n",
              "      <td>0.0</td>\n",
              "    </tr>\n",
              "  </tbody>\n",
              "</table>\n",
              "</div>\n",
              "      <button class=\"colab-df-convert\" onclick=\"convertToInteractive('df-21e46ee7-bcb4-411d-bc1c-fa7cb4bed286')\"\n",
              "              title=\"Convert this dataframe to an interactive table.\"\n",
              "              style=\"display:none;\">\n",
              "        \n",
              "  <svg xmlns=\"http://www.w3.org/2000/svg\" height=\"24px\"viewBox=\"0 0 24 24\"\n",
              "       width=\"24px\">\n",
              "    <path d=\"M0 0h24v24H0V0z\" fill=\"none\"/>\n",
              "    <path d=\"M18.56 5.44l.94 2.06.94-2.06 2.06-.94-2.06-.94-.94-2.06-.94 2.06-2.06.94zm-11 1L8.5 8.5l.94-2.06 2.06-.94-2.06-.94L8.5 2.5l-.94 2.06-2.06.94zm10 10l.94 2.06.94-2.06 2.06-.94-2.06-.94-.94-2.06-.94 2.06-2.06.94z\"/><path d=\"M17.41 7.96l-1.37-1.37c-.4-.4-.92-.59-1.43-.59-.52 0-1.04.2-1.43.59L10.3 9.45l-7.72 7.72c-.78.78-.78 2.05 0 2.83L4 21.41c.39.39.9.59 1.41.59.51 0 1.02-.2 1.41-.59l7.78-7.78 2.81-2.81c.8-.78.8-2.07 0-2.86zM5.41 20L4 18.59l7.72-7.72 1.47 1.35L5.41 20z\"/>\n",
              "  </svg>\n",
              "      </button>\n",
              "      \n",
              "  <style>\n",
              "    .colab-df-container {\n",
              "      display:flex;\n",
              "      flex-wrap:wrap;\n",
              "      gap: 12px;\n",
              "    }\n",
              "\n",
              "    .colab-df-convert {\n",
              "      background-color: #E8F0FE;\n",
              "      border: none;\n",
              "      border-radius: 50%;\n",
              "      cursor: pointer;\n",
              "      display: none;\n",
              "      fill: #1967D2;\n",
              "      height: 32px;\n",
              "      padding: 0 0 0 0;\n",
              "      width: 32px;\n",
              "    }\n",
              "\n",
              "    .colab-df-convert:hover {\n",
              "      background-color: #E2EBFA;\n",
              "      box-shadow: 0px 1px 2px rgba(60, 64, 67, 0.3), 0px 1px 3px 1px rgba(60, 64, 67, 0.15);\n",
              "      fill: #174EA6;\n",
              "    }\n",
              "\n",
              "    [theme=dark] .colab-df-convert {\n",
              "      background-color: #3B4455;\n",
              "      fill: #D2E3FC;\n",
              "    }\n",
              "\n",
              "    [theme=dark] .colab-df-convert:hover {\n",
              "      background-color: #434B5C;\n",
              "      box-shadow: 0px 1px 3px 1px rgba(0, 0, 0, 0.15);\n",
              "      filter: drop-shadow(0px 1px 2px rgba(0, 0, 0, 0.3));\n",
              "      fill: #FFFFFF;\n",
              "    }\n",
              "  </style>\n",
              "\n",
              "      <script>\n",
              "        const buttonEl =\n",
              "          document.querySelector('#df-21e46ee7-bcb4-411d-bc1c-fa7cb4bed286 button.colab-df-convert');\n",
              "        buttonEl.style.display =\n",
              "          google.colab.kernel.accessAllowed ? 'block' : 'none';\n",
              "\n",
              "        async function convertToInteractive(key) {\n",
              "          const element = document.querySelector('#df-21e46ee7-bcb4-411d-bc1c-fa7cb4bed286');\n",
              "          const dataTable =\n",
              "            await google.colab.kernel.invokeFunction('convertToInteractive',\n",
              "                                                     [key], {});\n",
              "          if (!dataTable) return;\n",
              "\n",
              "          const docLinkHtml = 'Like what you see? Visit the ' +\n",
              "            '<a target=\"_blank\" href=https://colab.research.google.com/notebooks/data_table.ipynb>data table notebook</a>'\n",
              "            + ' to learn more about interactive tables.';\n",
              "          element.innerHTML = '';\n",
              "          dataTable['output_type'] = 'display_data';\n",
              "          await google.colab.output.renderOutput(dataTable, element);\n",
              "          const docLink = document.createElement('div');\n",
              "          docLink.innerHTML = docLinkHtml;\n",
              "          element.appendChild(docLink);\n",
              "        }\n",
              "      </script>\n",
              "    </div>\n",
              "  </div>\n",
              "  "
            ],
            "text/plain": [
              "    OverallQual  MasVnrArea\n",
              "0             7       196.0\n",
              "1             6         0.0\n",
              "2             7       162.0\n",
              "3             7         0.0\n",
              "4             8       350.0\n",
              "5             5         0.0\n",
              "6             8       186.0\n",
              "7             7       240.0\n",
              "8             7         0.0\n",
              "9             5         0.0\n",
              "10            5         0.0\n",
              "11            9       286.0\n",
              "12            5         0.0\n",
              "13            7       306.0\n",
              "14            6       212.0\n",
              "15            7         0.0\n",
              "16            6       180.0\n",
              "17            4         0.0\n",
              "18            5         0.0\n",
              "19            5         0.0"
            ]
          },
          "execution_count": 12,
          "metadata": {},
          "output_type": "execute_result"
        }
      ],
      "source": [
        "# pick out X cols and Y = SalePricee\n",
        "X = train[cols]\n",
        "Y = train['SalePrice']\n",
        "X = X.drop(['SalePrice'], axis = 1)\n",
        "X"
      ]
    },
    {
      "cell_type": "code",
      "execution_count": 13,
      "metadata": {
        "id": "468F5oY9iVyr"
      },
      "outputs": [],
      "source": [
        "# buld Linear Regression Model\n",
        "from sklearn import linear_model\n",
        "lr = linear_model.LinearRegression()\n",
        "model = lr.fit(X, Y)\n",
        "predictions = model.predict(X)"
      ]
    },
    {
      "cell_type": "code",
      "execution_count": 14,
      "metadata": {
        "colab": {
          "base_uri": "https://localhost:8080/"
        },
        "id": "zHRuYpU3iVys",
        "outputId": "47625f85-b4f8-4549-8e11-e9ab023762bf"
      },
      "outputs": [
        {
          "data": {
            "text/plain": [
              "0.7501993255220817"
            ]
          },
          "execution_count": 14,
          "metadata": {},
          "output_type": "execute_result"
        }
      ],
      "source": [
        "# How good is the model\n",
        "model.score(X,Y)\n"
      ]
    },
    {
      "cell_type": "code",
      "execution_count": 15,
      "metadata": {
        "colab": {
          "base_uri": "https://localhost:8080/",
          "height": 282
        },
        "id": "GrYb9djIiVys",
        "outputId": "ff80bfd9-8dec-4dd3-9b6f-39a221f69da7"
      },
      "outputs": [
        {
          "data": {
            "text/plain": [
              "<matplotlib.collections.PathCollection at 0x7f2471a0d750>"
            ]
          },
          "execution_count": 15,
          "metadata": {},
          "output_type": "execute_result"
        },
        {
          "data": {
            "image/png": "[encoded data removed]",
            "text/plain": [
              "<Figure size 432x288 with 1 Axes>"
            ]
          },
          "metadata": {
            "needs_background": "light"
          },
          "output_type": "display_data"
        }
      ],
      "source": [
        "# Scatter plot of predictions\n",
        "plt.scatter(predictions, Y)"
      ]
    },
    {
      "cell_type": "code",
      "execution_count": null,
      "metadata": {
        "id": "rJcvLR0liVyt"
      },
      "outputs": [],
      "source": []
    },
    {
      "cell_type": "code",
      "execution_count": null,
      "metadata": {
        "id": "ZYu9PNWUiVyt"
      },
      "outputs": [],
      "source": []
    },
    {
      "cell_type": "code",
      "execution_count": null,
      "metadata": {
        "id": "hC1HK-MOiVyt"
      },
      "outputs": [],
      "source": []
    },
    {
      "cell_type": "code",
      "execution_count": null,
      "metadata": {
        "id": "e--5D8-NiVyt"
      },
      "outputs": [],
      "source": []
    },
    {
      "cell_type": "code",
      "execution_count": null,
      "metadata": {
        "id": "miDMNwIUiVyt"
      },
      "outputs": [],
      "source": []
    }
  ],
  "metadata": {
    "colab": {
      "collapsed_sections": [],
      "include_colab_link": true,
      "provenance": []
    },
    "kernelspec": {
      "display_name": "Python 3.10.7 64-bit",
      "language": "python",
      "name": "python3"
    },
    "language_info": {
      "codemirror_mode": {
        "name": "ipython",
        "version": 3
      },
      "file_extension": ".py",
      "mimetype": "text/x-python",
      "name": "python",
      "nbconvert_exporter": "python",
      "pygments_lexer": "ipython3",
      "version": "3.10.7"
    },
    "vscode": {
      "interpreter": {
        "hash": "aee8b7b246df8f9039afb4144a1f6fd8d2ca17a180786b69acc140d282b71a49"
      }
    }
  },
  "nbformat": 4,
  "nbformat_minor": 0
}
